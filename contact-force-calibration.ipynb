{
 "cells": [
  {
   "cell_type": "markdown",
   "id": "025167b6-6953-498d-ae9d-4447555ecd71",
   "metadata": {},
   "source": [
    "## Calibrate K"
   ]
  },
  {
   "cell_type": "code",
   "execution_count": 20,
   "id": "9e446e1c-efa5-45d4-8877-1d8d4b99f62c",
   "metadata": {},
   "outputs": [
    {
     "name": "stderr",
     "output_type": "stream",
     "text": [
      "/var/folders/fg/wwsz02rn0qn31sz3qslnnjm80000gn/T/ipykernel_94244/2092446463.py:10: DeprecationWarning: Global serialization/deserialization functions have been replaced with\n",
      "explicit typestores.\n",
      "\n",
      "If you are deserializing messages from an AnyReader instance, simply\n",
      "use its `.deserialize(data, typename)` method.\n",
      "\n",
      "Otherwise instantiate a type store and use its methods:\n",
      "\n",
      "from rosbags.typesys import Stores, get_typestore\n",
      "\n",
      "typestore = get_typestore(Stores.ROS2_FOXY)\n",
      "typestore.deserialize_cdr(data, typename)\n",
      "  msg = deserialize_cdr(rawdata, connection.msgtype)\n"
     ]
    }
   ],
   "source": [
    "from rosbags.rosbag2 import Reader\n",
    "from rosbags.serde import deserialize_cdr\n",
    "\n",
    "rosbag_data = list()\n",
    "\n",
    "with Reader(\"/Users/wisnumulya/Repositories/wpm_7mbi0101/contact-force-data-2/cf-ss-g-50\") as reader:\n",
    "    # iterate over messages\n",
    "    for connection, timestamp, rawdata in reader.messages():\n",
    "        if connection.topic == '/contact_force':\n",
    "            msg = deserialize_cdr(rawdata, connection.msgtype)\n",
    "            rosbag_data.append(msg.data)"
   ]
  },
  {
   "cell_type": "code",
   "execution_count": 21,
   "id": "47d450a8-5ffb-4e87-a915-19957a37cf39",
   "metadata": {
    "scrolled": true
   },
   "outputs": [
    {
     "data": {
      "text/plain": [
       "[-87579.0,\n",
       " -87556.0,\n",
       " -87507.0,\n",
       " -87502.0,\n",
       " -87563.0,\n",
       " -87547.0,\n",
       " -87617.0,\n",
       " -87607.0,\n",
       " -87570.0,\n",
       " -87613.0,\n",
       " -87577.0,\n",
       " -87551.0,\n",
       " -87551.0,\n",
       " -87572.0,\n",
       " -87552.0,\n",
       " -87546.0,\n",
       " -87581.0,\n",
       " -87577.0,\n",
       " -87608.0,\n",
       " -87589.0,\n",
       " -87558.0,\n",
       " -87602.0,\n",
       " -87590.0,\n",
       " -87595.0,\n",
       " -87634.0,\n",
       " -87563.0,\n",
       " -87579.0,\n",
       " -87573.0,\n",
       " -87610.0,\n",
       " -87587.0,\n",
       " -87671.0,\n",
       " -87598.0,\n",
       " -87582.0,\n",
       " -87592.0,\n",
       " -87609.0,\n",
       " -87589.0,\n",
       " -87552.0,\n",
       " -87573.0,\n",
       " -87566.0,\n",
       " -87597.0,\n",
       " -87568.0,\n",
       " -87577.0,\n",
       " -87606.0,\n",
       " -87597.0,\n",
       " -87547.0,\n",
       " -87514.0,\n",
       " -87615.0,\n",
       " -87540.0,\n",
       " -87549.0,\n",
       " -87594.0,\n",
       " -87574.0,\n",
       " -87564.0,\n",
       " -87558.0,\n",
       " -87576.0,\n",
       " -87603.0,\n",
       " -87598.0,\n",
       " -87520.0,\n",
       " -87634.0,\n",
       " -87601.0,\n",
       " -87551.0,\n",
       " -87589.0,\n",
       " -87590.0,\n",
       " -87600.0,\n",
       " -87618.0,\n",
       " -87551.0,\n",
       " -87633.0,\n",
       " -87612.0,\n",
       " -87592.0,\n",
       " -87616.0,\n",
       " -87590.0,\n",
       " -87592.0,\n",
       " -87592.0,\n",
       " -87550.0,\n",
       " -87588.0,\n",
       " -5639937.0,\n",
       " -87570.0,\n",
       " -87605.0,\n",
       " -87561.0,\n",
       " -87573.0,\n",
       " -87561.0,\n",
       " -87616.0,\n",
       " -87667.0,\n",
       " -87569.0,\n",
       " -87576.0,\n",
       " -87558.0,\n",
       " -87550.0,\n",
       " -87584.0,\n",
       " -87573.0,\n",
       " -87595.0,\n",
       " -87615.0,\n",
       " -87601.0,\n",
       " -87627.0,\n",
       " -87547.0,\n",
       " -87616.0,\n",
       " -87618.0,\n",
       " -87599.0,\n",
       " -87597.0,\n",
       " -87616.0,\n",
       " -87607.0,\n",
       " -87640.0,\n",
       " -87628.0,\n",
       " -87658.0,\n",
       " -87581.0,\n",
       " -87595.0,\n",
       " -87659.0,\n",
       " -87579.0,\n",
       " -87641.0,\n",
       " -87624.0,\n",
       " -87650.0,\n",
       " -87635.0,\n",
       " -87569.0,\n",
       " -87589.0,\n",
       " -87621.0,\n",
       " -87619.0,\n",
       " -87623.0,\n",
       " -87587.0,\n",
       " -87568.0,\n",
       " -87561.0,\n",
       " -87562.0,\n",
       " -87579.0,\n",
       " -87628.0,\n",
       " -87613.0,\n",
       " -87532.0,\n",
       " -87606.0,\n",
       " -87583.0,\n",
       " -87632.0,\n",
       " -87629.0,\n",
       " -87555.0,\n",
       " -87546.0,\n",
       " -87571.0,\n",
       " -87583.0,\n",
       " 7389183.0,\n",
       " -87572.0,\n",
       " -983041.0,\n",
       " -87544.0,\n",
       " -87572.0,\n",
       " -87575.0,\n",
       " -87596.0]"
      ]
     },
     "execution_count": 21,
     "metadata": {},
     "output_type": "execute_result"
    }
   ],
   "source": [
    "rosbag_data"
   ]
  },
  {
   "cell_type": "code",
   "execution_count": 22,
   "id": "cd091d24-2497-429a-bf82-88f3689a6fc0",
   "metadata": {},
   "outputs": [
    {
     "name": "stderr",
     "output_type": "stream",
     "text": [
      "/var/folders/fg/wwsz02rn0qn31sz3qslnnjm80000gn/T/ipykernel_94244/3245719171.py:7: DeprecationWarning: Global serialization/deserialization functions have been replaced with\n",
      "explicit typestores.\n",
      "\n",
      "If you are deserializing messages from an AnyReader instance, simply\n",
      "use its `.deserialize(data, typename)` method.\n",
      "\n",
      "Otherwise instantiate a type store and use its methods:\n",
      "\n",
      "from rosbags.typesys import Stores, get_typestore\n",
      "\n",
      "typestore = get_typestore(Stores.ROS2_FOXY)\n",
      "typestore.deserialize_cdr(data, typename)\n",
      "  msg = deserialize_cdr(rawdata, connection.msgtype)\n"
     ]
    }
   ],
   "source": [
    "rosbag_data_2 = list()\n",
    "\n",
    "with Reader(\"/Users/wisnumulya/Repositories/wpm_7mbi0101/contact-force-data-2/cf-ss-g-100\") as reader:\n",
    "    # iterate over messages\n",
    "    for connection, timestamp, rawdata in reader.messages():\n",
    "        if connection.topic == '/contact_force':\n",
    "            msg = deserialize_cdr(rawdata, connection.msgtype)\n",
    "            rosbag_data_2.append(msg.data)"
   ]
  },
  {
   "cell_type": "code",
   "execution_count": 23,
   "id": "477a03d0-c6c6-4194-b473-00119dabca36",
   "metadata": {
    "scrolled": true
   },
   "outputs": [
    {
     "data": {
      "text/plain": [
       "[-130015.0,\n",
       " -130000.0,\n",
       " -130090.0,\n",
       " -130057.0,\n",
       " -130061.0,\n",
       " -130100.0,\n",
       " -130023.0,\n",
       " -130052.0,\n",
       " -130065.0,\n",
       " -130058.0,\n",
       " -130015.0,\n",
       " -130081.0,\n",
       " -130040.0,\n",
       " -130029.0,\n",
       " -130011.0,\n",
       " -130033.0,\n",
       " -130007.0,\n",
       " -130073.0,\n",
       " -130106.0,\n",
       " -130053.0,\n",
       " -130043.0,\n",
       " -130084.0,\n",
       " -130070.0,\n",
       " -130036.0,\n",
       " -130101.0,\n",
       " -130025.0,\n",
       " -130076.0,\n",
       " -130018.0,\n",
       " -130041.0,\n",
       " -130032.0,\n",
       " -129999.0,\n",
       " -130084.0,\n",
       " -130061.0,\n",
       " -130057.0,\n",
       " -130079.0,\n",
       " -130051.0,\n",
       " -130035.0,\n",
       " -130077.0,\n",
       " -130006.0,\n",
       " -130052.0,\n",
       " -130007.0,\n",
       " -130063.0,\n",
       " -130006.0,\n",
       " -130040.0,\n",
       " -130008.0,\n",
       " -130045.0,\n",
       " -129952.0,\n",
       " -130002.0,\n",
       " -129994.0,\n",
       " -129981.0,\n",
       " -130014.0,\n",
       " -129985.0,\n",
       " -130020.0,\n",
       " -130039.0,\n",
       " -130043.0,\n",
       " -130032.0,\n",
       " -130023.0,\n",
       " -130016.0,\n",
       " -130035.0,\n",
       " -130008.0,\n",
       " -130029.0,\n",
       " -130017.0,\n",
       " -129980.0,\n",
       " -130079.0,\n",
       " -130006.0,\n",
       " -130033.0,\n",
       " -130055.0,\n",
       " -130026.0,\n",
       " -130013.0,\n",
       " -130041.0,\n",
       " -130062.0,\n",
       " -130051.0,\n",
       " -130010.0,\n",
       " -130017.0,\n",
       " -130051.0,\n",
       " -129981.0,\n",
       " -130031.0,\n",
       " -129998.0,\n",
       " -130039.0,\n",
       " -130080.0,\n",
       " -130029.0,\n",
       " -130042.0,\n",
       " -130024.0,\n",
       " -130008.0,\n",
       " -130055.0]"
      ]
     },
     "execution_count": 23,
     "metadata": {},
     "output_type": "execute_result"
    }
   ],
   "source": [
    "rosbag_data_2"
   ]
  },
  {
   "cell_type": "code",
   "execution_count": 7,
   "id": "9db02eb9-895b-43d7-9d02-6b6ac7218f3c",
   "metadata": {},
   "outputs": [],
   "source": [
    "import numpy as np"
   ]
  },
  {
   "cell_type": "code",
   "execution_count": 24,
   "id": "0b8458a0-7710-40b6-8cc6-e4c3d00374a9",
   "metadata": {},
   "outputs": [],
   "source": [
    "w50 = np.array(rosbag_data)\n",
    "w100 = np.array(rosbag_data_2)"
   ]
  },
  {
   "cell_type": "code",
   "execution_count": 40,
   "id": "75818087-c37e-40e5-a7b2-9a45fe7e2462",
   "metadata": {},
   "outputs": [
    {
     "data": {
      "text/plain": [
       "42446.5"
      ]
     },
     "execution_count": 40,
     "metadata": {},
     "output_type": "execute_result"
    }
   ],
   "source": [
    "np.median(w50) - np.median(w100)"
   ]
  },
  {
   "cell_type": "markdown",
   "id": "5b73bdfb-ded7-439c-b807-104b0cefb24a",
   "metadata": {},
   "source": [
    "## Calibrate Steady State Force and Plate Weight"
   ]
  },
  {
   "cell_type": "code",
   "execution_count": 26,
   "id": "aa00d284-2e06-459d-80fd-a52a9d7720f6",
   "metadata": {},
   "outputs": [
    {
     "name": "stderr",
     "output_type": "stream",
     "text": [
      "/var/folders/fg/wwsz02rn0qn31sz3qslnnjm80000gn/T/ipykernel_94244/463585203.py:7: DeprecationWarning: Global serialization/deserialization functions have been replaced with\n",
      "explicit typestores.\n",
      "\n",
      "If you are deserializing messages from an AnyReader instance, simply\n",
      "use its `.deserialize(data, typename)` method.\n",
      "\n",
      "Otherwise instantiate a type store and use its methods:\n",
      "\n",
      "from rosbags.typesys import Stores, get_typestore\n",
      "\n",
      "typestore = get_typestore(Stores.ROS2_FOXY)\n",
      "typestore.deserialize_cdr(data, typename)\n",
      "  msg = deserialize_cdr(rawdata, connection.msgtype)\n"
     ]
    }
   ],
   "source": [
    "ss_list = list()\n",
    "\n",
    "with Reader(\"/Users/wisnumulya/Repositories/wpm_7mbi0101/contact-force-data-2/cf-ss\") as reader:\n",
    "    # iterate over messages\n",
    "    for connection, timestamp, rawdata in reader.messages():\n",
    "        if connection.topic == '/contact_force':\n",
    "            msg = deserialize_cdr(rawdata, connection.msgtype)\n",
    "            ss_list.append(msg.data)"
   ]
  },
  {
   "cell_type": "code",
   "execution_count": 27,
   "id": "fea0b125-ab26-4beb-919c-ab9266668ccb",
   "metadata": {},
   "outputs": [
    {
     "name": "stderr",
     "output_type": "stream",
     "text": [
      "/var/folders/fg/wwsz02rn0qn31sz3qslnnjm80000gn/T/ipykernel_94244/1359334841.py:7: DeprecationWarning: Global serialization/deserialization functions have been replaced with\n",
      "explicit typestores.\n",
      "\n",
      "If you are deserializing messages from an AnyReader instance, simply\n",
      "use its `.deserialize(data, typename)` method.\n",
      "\n",
      "Otherwise instantiate a type store and use its methods:\n",
      "\n",
      "from rosbags.typesys import Stores, get_typestore\n",
      "\n",
      "typestore = get_typestore(Stores.ROS2_FOXY)\n",
      "typestore.deserialize_cdr(data, typename)\n",
      "  msg = deserialize_cdr(rawdata, connection.msgtype)\n"
     ]
    }
   ],
   "source": [
    "ss_g_list = list()\n",
    "\n",
    "with Reader(\"/Users/wisnumulya/Repositories/wpm_7mbi0101/contact-force-data-2/cf-ss-g\") as reader:\n",
    "    # iterate over messages\n",
    "    for connection, timestamp, rawdata in reader.messages():\n",
    "        if connection.topic == '/contact_force':\n",
    "            msg = deserialize_cdr(rawdata, connection.msgtype)\n",
    "            ss_g_list.append(msg.data)"
   ]
  },
  {
   "cell_type": "code",
   "execution_count": 28,
   "id": "04d4dcb4-9a95-422c-8c13-288e94348374",
   "metadata": {},
   "outputs": [],
   "source": [
    "ss_arr = np.array(ss_list)\n",
    "ss_g_arr = np.array(ss_g_list)"
   ]
  },
  {
   "cell_type": "code",
   "execution_count": 36,
   "id": "7edc8d93-5cc7-4a7d-849d-a70ebae38daa",
   "metadata": {},
   "outputs": [
    {
     "data": {
      "text/plain": [
       "15348.0"
      ]
     },
     "execution_count": 36,
     "metadata": {},
     "output_type": "execute_result"
    }
   ],
   "source": [
    "np.median(ss_arr)"
   ]
  },
  {
   "cell_type": "code",
   "execution_count": 37,
   "id": "7390e94e-1614-4001-855a-e731a8cbbeeb",
   "metadata": {},
   "outputs": [
    {
     "data": {
      "text/plain": [
       "35357.8938547486"
      ]
     },
     "execution_count": 37,
     "metadata": {},
     "output_type": "execute_result"
    }
   ],
   "source": [
    "ss_arr.mean()"
   ]
  },
  {
   "cell_type": "code",
   "execution_count": 30,
   "id": "18793993-35ad-4600-8c65-16521c989d72",
   "metadata": {},
   "outputs": [
    {
     "data": {
      "text/plain": [
       "array([   15443.,    15386.,    15408.,    15419.,    15402.,    15425.,\n",
       "          15398.,    15419.,    15457.,    15374.,    15348.,    15451.,\n",
       "          15390.,    15389.,    15415.,    15377.,    15381.,    15441.,\n",
       "          15366.,  1967615.,    15378.,    15380.,    15395.,    15377.,\n",
       "          15370.,    15343.,    15408.,    15456.,    15331.,    30715.,\n",
       "          15359.,    15406.,    15403.,    15450.,    15370.,    15385.,\n",
       "          15422.,    15374.,    15401.,    15423.,    15377.,    15418.,\n",
       "          15407.,    15389.,    15402.,    15370.,    15315.,    15208.,\n",
       "       -1392641.,    15316.,    15302.,   490559.,    15330.,    15359.,\n",
       "          15372.,    15315.,    15287.,    15288.,    15285.,    15307.,\n",
       "          15325.,    15329.,    15293.,    15346.,    15296.,    15320.,\n",
       "          15354.,    15354.,    15308.,    15372.,    15260.,    15333.,\n",
       "          15283.,    15302.,    15367.,    15391.,    15329.,    15268.,\n",
       "          15327.,    15322.,    15307.,    15288.,    15297.,    15290.,\n",
       "          15385.,    15306.,    15310.,    15297.,    15344.,    15291.,\n",
       "          15325.,    15317.,    15343.,    15303.,    15286.,    15386.,\n",
       "          15281.,    15350.,    15345.,    15301.,    15326.,    15385.,\n",
       "          15306.,    15360.,    15314.,    15307.,    15279.,    15294.,\n",
       "          15374.,    15296.,    15298.,    15311.,    15314.,    15344.,\n",
       "          15284.,   490015.,    15331.,    15356.,    15339.,    15312.,\n",
       "          15359.,    15379.,    15325.,    15326.,    15338.,    15308.,\n",
       "          15336.,    15319.,    15350.,    15362.,   122975.,    30599.,\n",
       "          15379.,    15342.,    15323.,    15340.,    15348.,    15380.,\n",
       "          15391.,    15374.,    15328.,    15332.,    15326.,    15345.,\n",
       "          15364.,    15362.,    15333.,    15295.,    15330.,    15311.,\n",
       "          15319.,    15331.,    15345.,    15341.,    15320.,  1964543.,\n",
       "          15367.,    15377.,    15359.,    15343.,    15336.,    15372.,\n",
       "          15315.,    15355.,    15333.,    15351.,    15362.,    15412.,\n",
       "          15345.,    15358.,    15353.,    15382.,    15377.,    15357.,\n",
       "          15397.,    15369.,    15372.,    15390.,    15312.])"
      ]
     },
     "execution_count": 30,
     "metadata": {},
     "output_type": "execute_result"
    }
   ],
   "source": [
    "ss_arr.mo"
   ]
  },
  {
   "cell_type": "code",
   "execution_count": 38,
   "id": "fdc86265-1531-4ef1-8427-80ec6090e904",
   "metadata": {},
   "outputs": [
    {
     "data": {
      "text/plain": [
       "array([-45062., -45031., -45083., -45035., -45036., -45039., -45090.,\n",
       "       -45032., -45053., -45038., -45061., -45088., -45035., -45075.,\n",
       "       -45020., -45059., -45057., -45033., -45063., -45046., -45084.,\n",
       "       -45102., -45101., -45061., -45021., -45028., -45004., -45094.,\n",
       "       -45070., -45059., -45008., -45102., -45040., -45045., -45128.,\n",
       "       -45121., -45085., -45029., -45108., -45149., -45112., -45093.,\n",
       "       -45075., -45080., -45089., -45113., -45067., -45075., -45069.,\n",
       "       -45050., -45140., -45107., -45058., -45143., -45098., -45061.,\n",
       "       -45092., -45079., -45172., -45067., -45098., -45167., -45121.,\n",
       "       -45085., -45076., -45124., -45103., -45090., -45086., -45140.,\n",
       "       -45096., -45066., -45101., -45097., -45097., -45080., -45063.,\n",
       "       -45090., -45091., -45078., -45085., -45088., -45115., -45079.,\n",
       "       -45081., -45071., -45064., -45081., -45049., -45061., -45049.,\n",
       "       -45092., -45131., -45101., -45123., -45086., -45108., -45054.,\n",
       "       -45094., -45106., -45085., -45142., -45135., -45091., -45120.,\n",
       "       -45089., -45085., -45101., -45095., -45055., -45160., -45119.,\n",
       "       -45150.])"
      ]
     },
     "execution_count": 38,
     "metadata": {},
     "output_type": "execute_result"
    }
   ],
   "source": [
    "ss_g_arr"
   ]
  },
  {
   "cell_type": "code",
   "execution_count": 39,
   "id": "82833b0e-83fe-47d3-b19b-58eaae3fdc37",
   "metadata": {},
   "outputs": [
    {
     "data": {
      "text/plain": [
       "60431.265486725664"
      ]
     },
     "execution_count": 39,
     "metadata": {},
     "output_type": "execute_result"
    }
   ],
   "source": [
    "np.median(ss_arr) - ss_g_arr.mean()"
   ]
  },
  {
   "cell_type": "markdown",
   "id": "0b37faf1-6b86-4eaa-9c4b-f44b594859ed",
   "metadata": {},
   "source": [
    "## Current Force Analysis"
   ]
  },
  {
   "cell_type": "code",
   "execution_count": 61,
   "id": "b596db0e-9bc5-4443-acd6-e2ec36e00388",
   "metadata": {},
   "outputs": [
    {
     "name": "stderr",
     "output_type": "stream",
     "text": [
      "/var/folders/fg/wwsz02rn0qn31sz3qslnnjm80000gn/T/ipykernel_94244/2022961751.py:11: DeprecationWarning: Global serialization/deserialization functions have been replaced with\n",
      "explicit typestores.\n",
      "\n",
      "If you are deserializing messages from an AnyReader instance, simply\n",
      "use its `.deserialize(data, typename)` method.\n",
      "\n",
      "Otherwise instantiate a type store and use its methods:\n",
      "\n",
      "from rosbags.typesys import Stores, get_typestore\n",
      "\n",
      "typestore = get_typestore(Stores.ROS2_FOXY)\n",
      "typestore.deserialize_cdr(data, typename)\n",
      "  msg = deserialize_cdr(rawdata, connection.msgtype)\n",
      "/var/folders/fg/wwsz02rn0qn31sz3qslnnjm80000gn/T/ipykernel_94244/2022961751.py:8: DeprecationWarning: Global serialization/deserialization functions have been replaced with\n",
      "explicit typestores.\n",
      "\n",
      "If you are deserializing messages from an AnyReader instance, simply\n",
      "use its `.deserialize(data, typename)` method.\n",
      "\n",
      "Otherwise instantiate a type store and use its methods:\n",
      "\n",
      "from rosbags.typesys import Stores, get_typestore\n",
      "\n",
      "typestore = get_typestore(Stores.ROS2_FOXY)\n",
      "typestore.deserialize_cdr(data, typename)\n",
      "  msg = deserialize_cdr(rawdata, connection.msgtype)\n"
     ]
    }
   ],
   "source": [
    "cur_list = list()\n",
    "state_list = list()\n",
    "\n",
    "with Reader(\"/Users/wisnumulya/Repositories/wpm_7mbi0101/contact-force-data-2/current_torque\") as reader:\n",
    "    # iterate over messages\n",
    "    for connection, timestamp, rawdata in reader.messages():\n",
    "        if connection.topic == '/contact_force':\n",
    "            msg = deserialize_cdr(rawdata, connection.msgtype)\n",
    "            force_list.append(msg.data)\n",
    "        if connection.topic == '/joint_state':\n",
    "            msg = deserialize_cdr(rawdata, connection.msgtype)\n",
    "            state_list.append(msg.data)"
   ]
  },
  {
   "cell_type": "code",
   "execution_count": 58,
   "id": "30650f57-b023-49ee-9e51-14f7a00123de",
   "metadata": {},
   "outputs": [],
   "source": [
    "cur_arr = np.array(cur_list)"
   ]
  },
  {
   "cell_type": "code",
   "execution_count": 79,
   "id": "2b2d9876-c180-468e-ab5d-aaf1ee3dd6c9",
   "metadata": {},
   "outputs": [],
   "source": [
    "force_arr = np.array(force_list)"
   ]
  },
  {
   "cell_type": "code",
   "execution_count": 56,
   "id": "51ea241d-8f72-4fa0-8554-c23eaba0eb4e",
   "metadata": {},
   "outputs": [
    {
     "data": {
      "text/plain": [
       "array([[  20.,    0.,    0.],\n",
       "       [  25.,    0.,    0.],\n",
       "       [  30.,    0.,    0.],\n",
       "       [  35.,    0.,    0.],\n",
       "       [  40.,    0.,    0.],\n",
       "       [  45.,    0.,    0.],\n",
       "       [  50.,    0.,    0.],\n",
       "       [  55.,    0.,    0.],\n",
       "       [  60.,    0.,    0.],\n",
       "       [  65.,    0.,    0.],\n",
       "       [  70.,    0.,    0.],\n",
       "       [  75.,    0.,    0.],\n",
       "       [  80.,    0.,    0.],\n",
       "       [  85.,    0.,    0.],\n",
       "       [  90.,    0.,    0.],\n",
       "       [  95.,    0.,    0.],\n",
       "       [ 100.,    0.,    0.],\n",
       "       [ 105.,    0.,    0.],\n",
       "       [ 110.,    0.,    0.],\n",
       "       [ 115.,    0.,    0.],\n",
       "       [ 120.,    0.,    0.],\n",
       "       [ 125.,    0.,    0.],\n",
       "       [ 130.,    0.,    0.],\n",
       "       [ 135.,    0.,    0.],\n",
       "       [ 140.,    0.,    0.],\n",
       "       [ 145.,    0.,    0.],\n",
       "       [ 150.,    0.,    0.],\n",
       "       [ 155.,    0.,    0.],\n",
       "       [ 160.,    0.,    0.],\n",
       "       [ 165.,    0.,    0.],\n",
       "       [ 170.,    0.,    0.],\n",
       "       [ 175.,    0.,    0.],\n",
       "       [ 180.,    0.,    0.],\n",
       "       [ 185.,    0.,    0.],\n",
       "       [ 190.,    0.,    0.],\n",
       "       [ 195.,    0.,    0.],\n",
       "       [ 200.,    0.,    0.],\n",
       "       [ 205.,    0.,    0.],\n",
       "       [ 210.,    0.,    0.],\n",
       "       [ 215.,    0.,    0.],\n",
       "       [ 220.,    0.,    0.],\n",
       "       [ 225.,    0.,    0.],\n",
       "       [ 230.,    0.,    0.],\n",
       "       [ 235.,    0.,    0.],\n",
       "       [ 240.,    0.,    0.],\n",
       "       [ 245.,    0.,    0.],\n",
       "       [ 250.,    0.,    0.],\n",
       "       [ 255.,    0.,    0.],\n",
       "       [ 260.,    0.,    0.],\n",
       "       [ 265.,    0.,    0.],\n",
       "       [ 270.,    0.,    0.],\n",
       "       [ 275.,    0.,    0.],\n",
       "       [ 280.,    0.,    0.],\n",
       "       [ 285.,    0.,    0.],\n",
       "       [ 290.,    0.,    0.],\n",
       "       [ 295.,    0.,    0.],\n",
       "       [ 300.,    0.,    0.],\n",
       "       [ 305.,    0.,    0.],\n",
       "       [ 310.,    0.,    0.],\n",
       "       [ 315.,    0.,    0.],\n",
       "       [ 320.,    0.,    0.],\n",
       "       [ 325.,    0.,    0.],\n",
       "       [ 330.,    0.,    0.],\n",
       "       [ 335.,    0.,    0.],\n",
       "       [ 340.,    0.,    0.],\n",
       "       [ 345.,    0.,    0.],\n",
       "       [ 350.,    0.,    0.],\n",
       "       [ 355.,    0.,    0.],\n",
       "       [ 360.,    0.,    0.],\n",
       "       [ 365.,    0.,    0.],\n",
       "       [ 370.,    0.,    0.],\n",
       "       [ 375.,    0.,    0.],\n",
       "       [ 380.,    0.,    0.],\n",
       "       [ 385.,    0.,    0.],\n",
       "       [ 390.,    0.,    0.],\n",
       "       [ 395.,    0.,    0.],\n",
       "       [ 400.,    0.,    0.],\n",
       "       [ 405.,    0.,    0.],\n",
       "       [ 410.,    0.,    0.],\n",
       "       [ 415.,    0.,    0.],\n",
       "       [ 420.,    0.,    0.],\n",
       "       [ 425.,    0.,    0.],\n",
       "       [ 430.,    0.,    0.],\n",
       "       [ 435.,    0.,    0.],\n",
       "       [ 440.,    0.,    0.],\n",
       "       [ 445.,    0.,    0.],\n",
       "       [ 450.,    0.,    0.],\n",
       "       [ 455.,    0.,    0.],\n",
       "       [ 460.,    0.,    0.],\n",
       "       [ 465.,    0.,    0.],\n",
       "       [ 470.,    0.,    0.],\n",
       "       [ 475.,    0.,    0.],\n",
       "       [ 480.,    0.,    0.],\n",
       "       [ 485.,    0.,    0.],\n",
       "       [ 490.,    0.,    0.],\n",
       "       [ 495.,    0.,    0.],\n",
       "       [ 500.,    0.,    0.],\n",
       "       [ 505.,    0.,    0.],\n",
       "       [ 510.,    0.,    0.],\n",
       "       [ 515.,    0.,    0.],\n",
       "       [ 520.,    0.,    0.],\n",
       "       [ 525.,    0.,    0.],\n",
       "       [ 530.,    0.,    0.],\n",
       "       [ 535.,    0.,    0.],\n",
       "       [ 540.,    0.,    0.],\n",
       "       [ 545.,    0.,    0.],\n",
       "       [ 550.,    0.,    0.],\n",
       "       [ 555.,    0.,    0.],\n",
       "       [ 560.,    0.,    0.],\n",
       "       [ 565.,    0.,    0.],\n",
       "       [ 570.,    0.,    0.],\n",
       "       [ 575.,    0.,    0.],\n",
       "       [ 580.,    0.,    0.],\n",
       "       [ 585.,    0.,    0.],\n",
       "       [ 590.,    0.,    0.],\n",
       "       [ 595.,    0.,    0.],\n",
       "       [ 600.,    0.,    0.],\n",
       "       [ 605.,    0.,    0.],\n",
       "       [ 610.,    0.,    0.],\n",
       "       [ 615.,    0.,    0.],\n",
       "       [ 620.,    0.,    0.],\n",
       "       [ 625.,    0.,    0.],\n",
       "       [ 630.,    0.,    0.],\n",
       "       [ 635.,    0.,    0.],\n",
       "       [ 640.,    0.,    0.],\n",
       "       [ 645.,    0.,    0.],\n",
       "       [ 650.,    0.,    0.],\n",
       "       [ 655.,    0.,    0.],\n",
       "       [ 660.,    0.,    0.],\n",
       "       [ 665.,    0.,    0.],\n",
       "       [ 670.,    0.,    0.],\n",
       "       [ 675.,    0.,    0.],\n",
       "       [ 680.,    0.,    0.],\n",
       "       [ 685.,    0.,    0.],\n",
       "       [ 690.,    0.,    0.],\n",
       "       [ 695.,    0.,    0.],\n",
       "       [ 700.,    0.,    0.],\n",
       "       [ 705.,    0.,    0.],\n",
       "       [ 710.,    0.,    0.],\n",
       "       [ 715.,    0.,    0.],\n",
       "       [ 720.,    0.,    0.],\n",
       "       [ 725.,    0.,    0.],\n",
       "       [ 730.,    0.,    0.],\n",
       "       [ 735.,    0.,    0.],\n",
       "       [ 740.,    0.,    0.],\n",
       "       [ 745.,    0.,    0.],\n",
       "       [ 750.,    0.,    0.],\n",
       "       [ 755.,    0.,    0.],\n",
       "       [ 760.,    0.,    0.],\n",
       "       [ 765.,    0.,    0.],\n",
       "       [ 770.,    0.,    0.],\n",
       "       [ 775.,    0.,    0.],\n",
       "       [ 780.,    0.,    0.],\n",
       "       [ 785.,    0.,    0.],\n",
       "       [ 790.,    0.,    0.],\n",
       "       [ 795.,    0.,    0.],\n",
       "       [ 800.,    0.,    0.],\n",
       "       [ 805.,    0.,    0.],\n",
       "       [ 810.,    0.,    0.],\n",
       "       [ 815.,    0.,    0.],\n",
       "       [ 820.,    0.,    0.],\n",
       "       [ 825.,    0.,    0.],\n",
       "       [ 830.,    0.,    0.],\n",
       "       [ 835.,    0.,    0.],\n",
       "       [ 840.,    0.,    0.],\n",
       "       [ 845.,    0.,    0.],\n",
       "       [ 850.,    0.,    0.],\n",
       "       [ 855.,    0.,    0.],\n",
       "       [ 860.,    0.,    0.],\n",
       "       [ 865.,    0.,    0.],\n",
       "       [ 870.,    0.,    0.],\n",
       "       [ 875.,    0.,    0.],\n",
       "       [ 880.,    0.,    0.],\n",
       "       [ 885.,    0.,    0.],\n",
       "       [ 890.,    0.,    0.],\n",
       "       [ 895.,    0.,    0.],\n",
       "       [ 900.,    0.,    0.],\n",
       "       [ 905.,    0.,    0.],\n",
       "       [ 910.,    0.,    0.],\n",
       "       [ 915.,    0.,    0.],\n",
       "       [ 920.,    0.,    0.],\n",
       "       [ 925.,    0.,    0.],\n",
       "       [ 930.,    0.,    0.],\n",
       "       [ 935.,    0.,    0.],\n",
       "       [ 940.,    0.,    0.],\n",
       "       [ 945.,    0.,    0.],\n",
       "       [ 950.,    0.,    0.],\n",
       "       [ 955.,    0.,    0.],\n",
       "       [ 960.,    0.,    0.],\n",
       "       [ 965.,    0.,    0.],\n",
       "       [ 970.,    0.,    0.],\n",
       "       [ 975.,    0.,    0.],\n",
       "       [ 980.,    0.,    0.],\n",
       "       [ 985.,    0.,    0.],\n",
       "       [ 990.,    0.,    0.],\n",
       "       [ 995.,    0.,    0.],\n",
       "       [1000.,    0.,    0.],\n",
       "       [1005.,    0.,    0.],\n",
       "       [1010.,    0.,    0.],\n",
       "       [1015.,    0.,    0.],\n",
       "       [1020.,    0.,    0.]], dtype=float32)"
      ]
     },
     "execution_count": 56,
     "metadata": {},
     "output_type": "execute_result"
    }
   ],
   "source": [
    "cur_arr[:]"
   ]
  },
  {
   "cell_type": "code",
   "execution_count": 80,
   "id": "3d69f890-bea2-403b-b892-b9b8cd24422f",
   "metadata": {},
   "outputs": [],
   "source": [
    "state_arr = np.array(state_list)"
   ]
  },
  {
   "cell_type": "code",
   "execution_count": 65,
   "id": "563f3a6a-859e-40ba-8488-0d6502653f72",
   "metadata": {},
   "outputs": [
    {
     "data": {
      "text/plain": [
       "array([ 15.,  15.,  15., ..., 499., 500., 500.], dtype=float32)"
      ]
     },
     "execution_count": 65,
     "metadata": {},
     "output_type": "execute_result"
    }
   ],
   "source": [
    "state_arr[:,6]"
   ]
  },
  {
   "cell_type": "code",
   "execution_count": 66,
   "id": "8984f740-6f5d-4923-907f-74d6c42549e5",
   "metadata": {},
   "outputs": [
    {
     "data": {
      "text/plain": [
       "array([[-8.781420e-01, -8.947227e+01, -1.750140e-01, ...,  1.500000e+01,\n",
       "         0.000000e+00,  0.000000e+00],\n",
       "       [-8.781420e-01, -8.947227e+01, -1.750140e-01, ...,  1.500000e+01,\n",
       "         0.000000e+00,  0.000000e+00],\n",
       "       [-8.781420e-01, -8.947227e+01, -1.750140e-01, ...,  1.500000e+01,\n",
       "         0.000000e+00,  0.000000e+00],\n",
       "       ...,\n",
       "       [ 2.901171e+00, -8.947227e+01, -1.750140e-01, ...,  4.990000e+02,\n",
       "         0.000000e+00,  0.000000e+00],\n",
       "       [ 2.901171e+00, -8.947227e+01, -1.750140e-01, ...,  5.000000e+02,\n",
       "         0.000000e+00,  0.000000e+00],\n",
       "       [ 2.989062e+00, -8.947227e+01, -1.750140e-01, ...,  5.000000e+02,\n",
       "         0.000000e+00,  0.000000e+00]], dtype=float32)"
      ]
     },
     "execution_count": 66,
     "metadata": {},
     "output_type": "execute_result"
    }
   ],
   "source": [
    "cur_arr"
   ]
  },
  {
   "cell_type": "code",
   "execution_count": 69,
   "id": "2f33d981-9a90-4d46-9f6e-c7d71be5e5fe",
   "metadata": {},
   "outputs": [],
   "source": [
    "import matplotlib.pyplot as plt\n",
    "import seaborn as sns"
   ]
  },
  {
   "cell_type": "code",
   "execution_count": 72,
   "id": "5f4b6b39-268f-482b-91b5-e0ea472ecddc",
   "metadata": {},
   "outputs": [
    {
     "data": {
      "text/plain": [
       "array([ -0.878142  , -89.47227   ,  -0.175014  ,   0.12069895,\n",
       "         0.12069895,   0.        ,  15.        ,   0.        ,\n",
       "         0.        ], dtype=float32)"
      ]
     },
     "execution_count": 72,
     "metadata": {},
     "output_type": "execute_result"
    }
   ],
   "source": [
    "force_"
   ]
  },
  {
   "cell_type": "code",
   "execution_count": 84,
   "id": "ca271e1f-b933-49a5-a266-71018c367384",
   "metadata": {},
   "outputs": [
    {
     "data": {
      "text/plain": [
       "<Axes: >"
      ]
     },
     "execution_count": 84,
     "metadata": {},
     "output_type": "execute_result"
    },
    {
     "data": {
      "image/png": "[encoded data removed]",
      "text/plain": [
       "<Figure size 640x480 with 1 Axes>"
      ]
     },
     "metadata": {},
     "output_type": "display_data"
    }
   ],
   "source": [
    "sns.lineplot(x=state_arr[:3015,6], y=force_arr)"
   ]
  },
  {
   "cell_type": "code",
   "execution_count": 81,
   "id": "f0010be0-a726-4a53-b0a6-7576ad5828e6",
   "metadata": {},
   "outputs": [
    {
     "data": {
      "text/plain": [
       "(3015,)"
      ]
     },
     "execution_count": 81,
     "metadata": {},
     "output_type": "execute_result"
    }
   ],
   "source": [
    "force_arr.shape"
   ]
  }
 ],
 "metadata": {
  "kernelspec": {
   "display_name": "Python 3 (ipykernel)",
   "language": "python",
   "name": "python3"
  },
  "language_info": {
   "codemirror_mode": {
    "name": "ipython",
    "version": 3
   },
   "file_extension": ".py",
   "mimetype": "text/x-python",
   "name": "python",
   "nbconvert_exporter": "python",
   "pygments_lexer": "ipython3",
   "version": "3.12.2"
  }
 },
 "nbformat": 4,
 "nbformat_minor": 5
}
